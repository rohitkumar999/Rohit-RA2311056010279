{
  "metadata": {
    "kernelspec": {
      "name": "python",
      "display_name": "Python (Pyodide)",
      "language": "python"
    },
    "language_info": {
      "codemirror_mode": {
        "name": "python",
        "version": 3
      },
      "file_extension": ".py",
      "mimetype": "text/x-python",
      "name": "python",
      "nbconvert_exporter": "python",
      "pygments_lexer": "ipython3",
      "version": "3.8"
    }
  },
  "nbformat_minor": 4,
  "nbformat": 4,
  "cells": [
    {
      "cell_type": "code",
      "source": "import numpy as np\na=np.array([[ 1, 2, 3],[ 7, 4, 9] ,[ 3, 2, 8]])\nprint(a)\na.flags",
      "metadata": {
        "trusted": true
      },
      "outputs": [
        {
          "name": "stdout",
          "text": "[[1 2 3]\n [7 4 9]\n [3 2 8]]\n",
          "output_type": "stream"
        },
        {
          "execution_count": 11,
          "output_type": "execute_result",
          "data": {
            "text/plain": "  C_CONTIGUOUS : True\n  F_CONTIGUOUS : False\n  OWNDATA : True\n  WRITEABLE : True\n  ALIGNED : True\n  WRITEBACKIFCOPY : False"
          },
          "metadata": {}
        }
      ],
      "execution_count": 11
    },
    {
      "cell_type": "code",
      "source": "import numpy as np\na=np.array([[ 1, 2, 3],[ 7, 4, 9] ,[ 3, 2, 8]])\nprint(a)\na.shape",
      "metadata": {
        "trusted": true
      },
      "outputs": [
        {
          "name": "stdout",
          "text": "[[1 2 3]\n [7 4 9]\n [3 2 8]]\n",
          "output_type": "stream"
        },
        {
          "execution_count": 12,
          "output_type": "execute_result",
          "data": {
            "text/plain": "(3, 3)"
          },
          "metadata": {}
        }
      ],
      "execution_count": 12
    },
    {
      "cell_type": "code",
      "source": "import numpy as np\na=np.array([[ 1, 2, 3],[ 7, 4, 9] ,[ 3, 2, 8]])\nprint(a)\na.strides",
      "metadata": {
        "trusted": true
      },
      "outputs": [
        {
          "name": "stdout",
          "text": "[[1 2 3]\n [7 4 9]\n [3 2 8]]\n",
          "output_type": "stream"
        },
        {
          "execution_count": 13,
          "output_type": "execute_result",
          "data": {
            "text/plain": "(12, 4)"
          },
          "metadata": {}
        }
      ],
      "execution_count": 13
    },
    {
      "cell_type": "code",
      "source": "import numpy as np\na=np.array([[ 1, 2, 3],[ 7, 4, 9] ,[ 3, 2, 8]])\nprint(a)\na.ndim",
      "metadata": {
        "trusted": true
      },
      "outputs": [
        {
          "name": "stdout",
          "text": "[[1 2 3]\n [7 4 9]\n [3 2 8]]\n",
          "output_type": "stream"
        },
        {
          "execution_count": 14,
          "output_type": "execute_result",
          "data": {
            "text/plain": "2"
          },
          "metadata": {}
        }
      ],
      "execution_count": 14
    },
    {
      "cell_type": "code",
      "source": "import numpy as np\na=np.array([[ 1, 2, 3],[ 7, 4, 9] ,[ 3, 2, 8]])\nprint(a)\na.data",
      "metadata": {
        "trusted": true
      },
      "outputs": [
        {
          "name": "stdout",
          "text": "[[1 2 3]\n [7 4 9]\n [3 2 8]]\n",
          "output_type": "stream"
        },
        {
          "execution_count": 15,
          "output_type": "execute_result",
          "data": {
            "text/plain": "<memory at 0x36ef5d8>"
          },
          "metadata": {}
        }
      ],
      "execution_count": 15
    },
    {
      "cell_type": "code",
      "source": "import numpy as np\na=np.array([[ 1, 2, 3],[ 7, 4, 9] ,[ 3, 2, 8]])\nprint(a)\na.size",
      "metadata": {
        "trusted": true
      },
      "outputs": [
        {
          "name": "stdout",
          "text": "[[1 2 3]\n [7 4 9]\n [3 2 8]]\n",
          "output_type": "stream"
        },
        {
          "execution_count": 16,
          "output_type": "execute_result",
          "data": {
            "text/plain": "9"
          },
          "metadata": {}
        }
      ],
      "execution_count": 16
    },
    {
      "cell_type": "code",
      "source": "import numpy as np\na=np.array([[ 1, 2, 3],[ 7, 4, 9] ,[ 3, 2, 8]])\nprint(a)\na.itemsize",
      "metadata": {
        "trusted": true
      },
      "outputs": [
        {
          "name": "stdout",
          "text": "[[1 2 3]\n [7 4 9]\n [3 2 8]]\n",
          "output_type": "stream"
        },
        {
          "execution_count": 17,
          "output_type": "execute_result",
          "data": {
            "text/plain": "4"
          },
          "metadata": {}
        }
      ],
      "execution_count": 17
    },
    {
      "cell_type": "code",
      "source": "import numpy as np\na=np.array([[ 1, 2, 3],[ 7, 4, 9] ,[ 3, 2, 8]])\nprint(a)\na.base",
      "metadata": {
        "trusted": true
      },
      "outputs": [
        {
          "name": "stdout",
          "text": "[[1 2 3]\n [7 4 9]\n [3 2 8]]\n",
          "output_type": "stream"
        }
      ],
      "execution_count": 18
    },
    {
      "cell_type": "code",
      "source": "import numpy as np\na=np.array([[ 1, 2, 3],[ 7, 4, 9] ,[ 3, 2, 8]])\nprint(a)\na.nbytes",
      "metadata": {
        "trusted": true
      },
      "outputs": [
        {
          "name": "stdout",
          "text": "[[1 2 3]\n [7 4 9]\n [3 2 8]]\n",
          "output_type": "stream"
        },
        {
          "execution_count": 19,
          "output_type": "execute_result",
          "data": {
            "text/plain": "36"
          },
          "metadata": {}
        }
      ],
      "execution_count": 19
    },
    {
      "cell_type": "code",
      "source": "import numpy as np\na=np.array([[ 1, 2, 3],[ 7, 4, 9] ,[ 3, 2, 8]])\nprint(a)\na.T",
      "metadata": {
        "trusted": true
      },
      "outputs": [
        {
          "name": "stdout",
          "text": "[[1 2 3]\n [7 4 9]\n [3 2 8]]\n",
          "output_type": "stream"
        },
        {
          "execution_count": 20,
          "output_type": "execute_result",
          "data": {
            "text/plain": "array([[1, 7, 3],\n       [2, 4, 2],\n       [3, 9, 8]])"
          },
          "metadata": {}
        }
      ],
      "execution_count": 20
    },
    {
      "cell_type": "code",
      "source": "import numpy as np\na=np.array([[ 1, 2, 3],[ 7, 4, 9] ,[ 3, 2, 8]])\nprint(a)\na.real",
      "metadata": {
        "trusted": true
      },
      "outputs": [
        {
          "name": "stdout",
          "text": "[[1 2 3]\n [7 4 9]\n [3 2 8]]\n",
          "output_type": "stream"
        },
        {
          "execution_count": 21,
          "output_type": "execute_result",
          "data": {
            "text/plain": "array([[1, 2, 3],\n       [7, 4, 9],\n       [3, 2, 8]])"
          },
          "metadata": {}
        }
      ],
      "execution_count": 21
    },
    {
      "cell_type": "code",
      "source": "import numpy as np\na=np.array([[ 1, 2, 3],[ 7, 4, 9] ,[ 3, 2, 8]])\nprint(a)\na.imag",
      "metadata": {
        "trusted": true
      },
      "outputs": [
        {
          "name": "stdout",
          "text": "[[1 2 3]\n [7 4 9]\n [3 2 8]]\n",
          "output_type": "stream"
        },
        {
          "execution_count": 22,
          "output_type": "execute_result",
          "data": {
            "text/plain": "array([[0, 0, 0],\n       [0, 0, 0],\n       [0, 0, 0]])"
          },
          "metadata": {}
        }
      ],
      "execution_count": 22
    },
    {
      "cell_type": "code",
      "source": "",
      "metadata": {
        "trusted": true
      },
      "outputs": [],
      "execution_count": null
    }
  ]
}