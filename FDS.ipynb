{
 "cells": [
  {
   "cell_type": "markdown",
   "id": "2a55328d-f6df-43af-b9c1-8ebe56d7947c",
   "metadata": {},
   "source": [
    "#"
   ]
  },
  {
   "cell_type": "code",
   "execution_count": 2,
   "id": "1abbcc79-f58b-4a7c-95e9-de2dd71af85a",
   "metadata": {},
   "outputs": [
    {
     "name": "stdout",
     "output_type": "stream",
     "text": [
      "[[1 3]\n",
      " [2 4]\n",
      " [3 5]]\n"
     ]
    }
   ],
   "source": [
    "import numpy as np\n",
    "arr1=np.array([1,2,3])\n",
    "arr2=np.array([3,4,5])\n",
    "arr=np.stack((arr1,arr2),axis=1)\n",
    "print(arr)"
   ]
  },
  {
   "cell_type": "code",
   "execution_count": 3,
   "id": "47a78071-b0e2-44d4-b54f-87684b5f0642",
   "metadata": {},
   "outputs": [
    {
     "name": "stdout",
     "output_type": "stream",
     "text": [
      "[array([1, 2]), array([3, 4]), array([5, 6])]\n"
     ]
    }
   ],
   "source": [
    "import numpy as np\n",
    "arr=np.array([1,2,3,4,5,6])\n",
    "newarr=np.array_split(arr,3)\n",
    "print(newarr)\n",
    "\n"
   ]
  },
  {
   "cell_type": "code",
   "execution_count": 6,
   "id": "3a9131c4-a331-47da-9413-425269dc3a9b",
   "metadata": {},
   "outputs": [
    {
     "ename": "NameError",
     "evalue": "name 'df' is not defined",
     "output_type": "error",
     "traceback": [
      "\u001b[0;31m---------------------------------------------------------------------------\u001b[0m",
      "\u001b[0;31mNameError\u001b[0m                                 Traceback (most recent call last)",
      "Cell \u001b[0;32mIn[6], line 2\u001b[0m\n\u001b[1;32m      1\u001b[0m \u001b[38;5;28;01mimport\u001b[39;00m \u001b[38;5;21;01mpandas\u001b[39;00m\n\u001b[0;32m----> 2\u001b[0m df[[\u001b[38;5;124m'\u001b[39m\u001b[38;5;124mMasVnrArea\u001b[39m\u001b[38;5;124m'\u001b[39m]]\u001b[38;5;241m.\u001b[39minfo()\n",
      "\u001b[0;31mNameError\u001b[0m: name 'df' is not defined"
     ]
    }
   ],
   "source": [
    "import pandas\n",
    "df[['MasVnrArea']].info()"
   ]
  },
  {
   "cell_type": "code",
   "execution_count": 8,
   "id": "c1ac2fc8-1f1f-4781-92cf-6b3a0d199529",
   "metadata": {},
   "outputs": [
    {
     "name": "stdout",
     "output_type": "stream",
     "text": [
      "0\n"
     ]
    }
   ],
   "source": [
    "from numpy import random\n",
    "x=random.randint(100)\n",
    "print(x)"
   ]
  },
  {
   "cell_type": "code",
   "execution_count": 4,
   "id": "1ec268e7-f7ec-4bad-a4bc-62fe7bee79a0",
   "metadata": {},
   "outputs": [
    {
     "name": "stdout",
     "output_type": "stream",
     "text": [
      "57\n"
     ]
    }
   ],
   "source": [
    "from numpy import random\n",
    "x=random.randint(100)\n",
    "print(x)"
   ]
  },
  {
   "cell_type": "code",
   "execution_count": null,
   "id": "a1752014-0f5d-4594-abc8-c4a5ed207f58",
   "metadata": {},
   "outputs": [],
   "source": []
  },
  {
   "cell_type": "code",
   "execution_count": 12,
   "id": "dff38447-2b27-4a0e-9125-129617e0e3cc",
   "metadata": {},
   "outputs": [
    {
     "name": "stdout",
     "output_type": "stream",
     "text": [
      "[[1 3]\n",
      " [2 4]\n",
      " [3 5]]\n"
     ]
    }
   ],
   "source": [
    "import numpy as np\n",
    "arr1=np.array([1,2,3])\n",
    "arr2=np.array([3,4,5])\n",
    "arr=np.stack((arr1,arr2),axis=1)\n",
    "print(arr)\n"
   ]
  },
  {
   "cell_type": "code",
   "execution_count": 24,
   "id": "45a414ea-1148-41a5-902a-856ed4ffaf25",
   "metadata": {},
   "outputs": [
    {
     "name": "stdout",
     "output_type": "stream",
     "text": [
      "[array([[1],\n",
      "       [4],\n",
      "       [6]]), array([[2],\n",
      "       [5],\n",
      "       [7]]), array([[3],\n",
      "       [6],\n",
      "       [8]])]\n"
     ]
    }
   ],
   "source": [
    "import numpy as np\n",
    "arr=np.array(([1,2,3],[4,5,6],[6,7,8]))\n",
    "newarr=np.hsplit(arr,3)\n",
    "print(newarr)"
   ]
  },
  {
   "cell_type": "code",
   "execution_count": 34,
   "id": "6db430c2-1bf6-4214-adde-9fffd85c87ba",
   "metadata": {},
   "outputs": [
    {
     "ename": "ValueError",
     "evalue": "probabilities do not sum to 1",
     "output_type": "error",
     "traceback": [
      "\u001b[0;31m---------------------------------------------------------------------------\u001b[0m",
      "\u001b[0;31mValueError\u001b[0m                                Traceback (most recent call last)",
      "Cell \u001b[0;32mIn[34], line 2\u001b[0m\n\u001b[1;32m      1\u001b[0m \u001b[38;5;28;01mfrom\u001b[39;00m \u001b[38;5;21;01mnumpy\u001b[39;00m \u001b[38;5;28;01mimport\u001b[39;00m random\n\u001b[0;32m----> 2\u001b[0m x \u001b[38;5;241m=\u001b[39m random\u001b[38;5;241m.\u001b[39mchoice([\u001b[38;5;241m3\u001b[39m,\u001b[38;5;241m4\u001b[39m,\u001b[38;5;241m5\u001b[39m,\u001b[38;5;241m6\u001b[39m], p\u001b[38;5;241m=\u001b[39m[\u001b[38;5;241m0.1\u001b[39m,\u001b[38;5;241m0.2\u001b[39m,\u001b[38;5;241m0.4\u001b[39m,\u001b[38;5;241m0.5\u001b[39m], size\u001b[38;5;241m=\u001b[39m(\u001b[38;5;241m100\u001b[39m))\n\u001b[1;32m      3\u001b[0m \u001b[38;5;28mprint\u001b[39m(x)\n",
      "File \u001b[0;32mnumpy/random/mtrand.pyx:975\u001b[0m, in \u001b[0;36mnumpy.random.mtrand.RandomState.choice\u001b[0;34m()\u001b[0m\n",
      "\u001b[0;31mValueError\u001b[0m: probabilities do not sum to 1"
     ]
    }
   ],
   "source": [
    "from numpy import random\n",
    "x = random.choice([3,4,5,6], p=[0.1,0.2,0.4,0.5], size=(100))\n",
    "print(x)"
   ]
  },
  {
   "cell_type": "code",
   "execution_count": 26,
   "id": "e9707603-f869-4562-be6e-95dae7d96ca9",
   "metadata": {},
   "outputs": [
    {
     "name": "stdout",
     "output_type": "stream",
     "text": [
      "3D Array:\n",
      "[[[ 1.  2.  3.]\n",
      "  [ 4.  5.  6.]\n",
      "  [ 7.  8.  9.]]\n",
      "\n",
      " [[10. 11. 12.]\n",
      "  [13. 14. 15.]\n",
      "  [16. 17. 18.]]\n",
      "\n",
      " [[19. 20. 21.]\n",
      "  [22. 23. 24.]\n",
      "  [25. 26. 27.]]]\n",
      "\n",
      "Element at position (1, 1, 1):\n",
      "14.0\n",
      "\n",
      "2D Array at index 0 along the first dimension:\n",
      "[[1. 2. 3.]\n",
      " [4. 5. 6.]\n",
      " [7. 8. 9.]]\n"
     ]
    }
   ],
   "source": [
    "import numpy as np\n",
    "\n",
    "\n",
    "array_3d = np.zeros((3, 3, 3))\n",
    "\n",
    "value = 1\n",
    "for i in range(3):\n",
    "    for j in range(3):\n",
    "        for k in range(3):\n",
    "            array_3d[i][j][k] = value\n",
    "            value += 1\n",
    "\n",
    "\n",
    "print(\"3D Array:\")\n",
    "print(array_3d)\n",
    "\n",
    "print(\"\\nElement at position (1, 1, 1):\")\n",
    "print(array_3d[1][1][1])\n",
    "\n",
    "print(\"\\n2D Array at index 0 along the first dimension:\")\n",
    "print(array_3d[0])"
   ]
  },
  {
   "cell_type": "code",
   "execution_count": null,
   "id": "47c379f3-b492-4c78-a2ba-a2a316218baf",
   "metadata": {},
   "outputs": [],
   "source": []
  },
  {
   "cell_type": "code",
   "execution_count": 47,
   "id": "f91a8741-dea4-409a-9cc2-50f29ad1dc41",
   "metadata": {},
   "outputs": [
    {
     "data": {
      "image/png": "[encoded data removed]",
      "text/plain": [
       "<Figure size 500x500 with 1 Axes>"
      ]
     },
     "metadata": {},
     "output_type": "display_data"
    }
   ],
   "source": [
    "from numpy import random \n",
    "import matplotlib.pyplot as plt\n",
    "import seaborn as sns\n",
    "data=np.random.normal(size=1000)\n",
    "sns.displot(data,kde=True)\n",
    "plt.show()"
   ]
  },
  {
   "cell_type": "code",
   "execution_count": 48,
   "id": "aff70b3a-ca9f-4c24-b504-6e96098caef7",
   "metadata": {},
   "outputs": [
    {
     "name": "stdout",
     "output_type": "stream",
     "text": [
      "[array([[1, 2, 3]]), array([[4, 5, 6]]), array([[6, 7, 8]])]\n"
     ]
    }
   ],
   "source": [
    "import numpy as np\n",
    "from numpy import linalg as LA\n",
    "A=np.array(([1,2,3],[3,4,5],[4,5,6]))\n",
    "newarr=np.array_split(arr,3)\n",
    "print(newarr)\n"
   ]
  },
  {
   "cell_type": "raw",
   "id": "1ac1ac59-3de9-4f1d-8954-2fb0a07cf905",
   "metadata": {},
   "source": []
  },
  {
   "cell_type": "code",
   "execution_count": null,
   "id": "fa217fba-e492-48d2-bb7f-580a88d20274",
   "metadata": {},
   "outputs": [],
   "source": [
    "import numpy as np\n",
    "A=np.array([[1,2,3],[4,5,6],[6,7,8]])\n",
    "B=np.array([[2,3,4],[2,5,6],[5,6,7]])\n",
    "print(A)"
   ]
  },
  {
   "cell_type": "markdown",
   "id": "41cde10e-9892-4f35-a84f-c691d276e818",
   "metadata": {},
   "source": []
  },
  {
   "cell_type": "code",
   "execution_count": 53,
   "id": "5ecb9faa-6f88-472a-913c-871c3cf16837",
   "metadata": {},
   "outputs": [
    {
     "name": "stdout",
     "output_type": "stream",
     "text": [
      "[4 3 5 3 6 5 4 4 9 6]\n"
     ]
    }
   ],
   "source": [
    "from numpy import random\n",
    "x=random.binomial(n=10,p=0.5,size=10)\n",
    "print(x)"
   ]
  },
  {
   "cell_type": "code",
   "execution_count": 73,
   "id": "57a34b93-c8e4-427a-9486-0d24e87f894d",
   "metadata": {},
   "outputs": [
    {
     "name": "stdout",
     "output_type": "stream",
     "text": [
      "  C_CONTIGUOUS : True\n",
      "  F_CONTIGUOUS : False\n",
      "  OWNDATA : True\n",
      "  WRITEABLE : True\n",
      "  ALIGNED : True\n",
      "  WRITEBACKIFCOPY : False\n",
      "\n",
      "(3, 3)\n",
      "(24, 8)\n",
      "2\n",
      "int64\n",
      "9\n",
      "8\n",
      "<memory at 0x168163b90>\n",
      "None\n",
      "72\n",
      "[[1 4 7]\n",
      " [2 5 8]\n",
      " [3 6 9]]\n",
      "[[1 2 3]\n",
      " [4 5 6]\n",
      " [7 8 9]]\n",
      "[[0 0 0]\n",
      " [0 0 0]\n",
      " [0 0 0]]\n"
     ]
    }
   ],
   "source": [
    "import numpy as np\n",
    "arr = np.array([[1, 2, 3], [4, 5, 6], [7, 8, 9]])\n",
    "print(arr.flags)\n",
    "print(arr.shape)\n",
    "print(arr.strides)\n",
    "print(arr.ndim)\n",
    "print(arr.dtype)\n",
    "print(arr.size)\n",
    "print(arr.itemsize)\n",
    "print(arr.data)\n",
    "print(arr.base)\n",
    "print(arr.nbytes)\n",
    "print(arr.T)\n",
    "print(arr.real)\n",
    "print(arr.imag)"
   ]
  },
  {
   "cell_type": "code",
   "execution_count": 49,
   "id": "af8c289a-260f-4fa4-8e32-1c9abb2bee2c",
   "metadata": {},
   "outputs": [
    {
     "name": "stdout",
     "output_type": "stream",
     "text": [
      "6\n"
     ]
    }
   ],
   "source": [
    "import numpy as np\n",
    "\n",
    "arr = np.array([[[1, 2, 3], [4, 5, 6]], [[7, 8, 9], [10, 11, 12]]])\n",
    "\n",
    "print(arr[0, 1, 2])"
   ]
  }
 ],
 "metadata": {
  "kernelspec": {
   "display_name": "Python 3 (ipykernel)",
   "language": "python",
   "name": "python3"
  },
  "language_info": {
   "codemirror_mode": {
    "name": "ipython",
    "version": 3
   },
   "file_extension": ".py",
   "mimetype": "text/x-python",
   "name": "python",
   "nbconvert_exporter": "python",
   "pygments_lexer": "ipython3",
   "version": "3.12.4"
  }
 },
 "nbformat": 4,
 "nbformat_minor": 5
}
